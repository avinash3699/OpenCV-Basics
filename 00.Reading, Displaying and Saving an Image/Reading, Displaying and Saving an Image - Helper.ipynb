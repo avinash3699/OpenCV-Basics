{
 "cells": [
  {
   "cell_type": "markdown",
   "id": "e2e137a6",
   "metadata": {},
   "source": [
    "## FUNCTIONS WITH IMAGES"
   ]
  },
  {
   "cell_type": "markdown",
   "id": "89b9bcc8",
   "metadata": {},
   "source": [
    "### READING AN IMAGE"
   ]
  },
  {
   "cell_type": "code",
   "execution_count": 2,
   "id": "c801cf14",
   "metadata": {},
   "outputs": [],
   "source": [
    "import cv2"
   ]
  },
  {
   "cell_type": "code",
   "execution_count": 3,
   "id": "c48afbb0",
   "metadata": {
    "collapsed": true
   },
   "outputs": [
    {
     "ename": "NameError",
     "evalue": "name 'path' is not defined",
     "output_type": "error",
     "traceback": [
      "\u001b[1;31m---------------------------------------------------------------------------\u001b[0m",
      "\u001b[1;31mNameError\u001b[0m                                 Traceback (most recent call last)",
      "\u001b[1;32m~\\AppData\\Local\\Temp/ipykernel_14752/680186734.py\u001b[0m in \u001b[0;36m<module>\u001b[1;34m\u001b[0m\n\u001b[1;32m----> 1\u001b[1;33m \u001b[0mcv2\u001b[0m\u001b[1;33m.\u001b[0m\u001b[0mimread\u001b[0m\u001b[1;33m(\u001b[0m\u001b[0mpath\u001b[0m\u001b[1;33m,\u001b[0m \u001b[0mflag\u001b[0m\u001b[1;33m)\u001b[0m\u001b[1;33m\u001b[0m\u001b[1;33m\u001b[0m\u001b[0m\n\u001b[0m",
      "\u001b[1;31mNameError\u001b[0m: name 'path' is not defined"
     ]
    }
   ],
   "source": [
    "cv2.imread(path, flag)"
   ]
  },
  {
   "cell_type": "markdown",
   "id": "79cd8ba4",
   "metadata": {},
   "source": [
    "path - path where the image is located\n",
    "\n",
    "flag - flags indicate how the image should be read."
   ]
  },
  {
   "cell_type": "markdown",
   "id": "aeae057a",
   "metadata": {},
   "source": [
    "Option - Flag value\n",
    "\n",
    "cv2.IMREAD_COLOR - 1  \n",
    "cv2.IMREAD_GRAYSCALE - 0  \n",
    "cv2.IMREAD_UNCHANGED - -1\n",
    "\n",
    "cv2.IMREAD_COLOR is default"
   ]
  },
  {
   "cell_type": "markdown",
   "id": "c05314d8",
   "metadata": {},
   "source": [
    "___"
   ]
  },
  {
   "cell_type": "markdown",
   "id": "3fb9a988",
   "metadata": {},
   "source": [
    "### DISPLAYING AN IMAGE"
   ]
  },
  {
   "cell_type": "code",
   "execution_count": 4,
   "id": "8bdf91a3",
   "metadata": {
    "collapsed": true
   },
   "outputs": [
    {
     "ename": "NameError",
     "evalue": "name 'window_name' is not defined",
     "output_type": "error",
     "traceback": [
      "\u001b[1;31m---------------------------------------------------------------------------\u001b[0m",
      "\u001b[1;31mNameError\u001b[0m                                 Traceback (most recent call last)",
      "\u001b[1;32m~\\AppData\\Local\\Temp/ipykernel_14752/3244061641.py\u001b[0m in \u001b[0;36m<module>\u001b[1;34m\u001b[0m\n\u001b[1;32m----> 1\u001b[1;33m \u001b[0mcv2\u001b[0m\u001b[1;33m.\u001b[0m\u001b[0mimshow\u001b[0m\u001b[1;33m(\u001b[0m\u001b[0mwindow_name\u001b[0m\u001b[1;33m,\u001b[0m \u001b[0mimage\u001b[0m\u001b[1;33m)\u001b[0m\u001b[1;33m\u001b[0m\u001b[1;33m\u001b[0m\u001b[0m\n\u001b[0m",
      "\u001b[1;31mNameError\u001b[0m: name 'window_name' is not defined"
     ]
    }
   ],
   "source": [
    "cv2.imshow(window_name, image)"
   ]
  },
  {
   "cell_type": "markdown",
   "id": "a06901dd",
   "metadata": {},
   "source": [
    "window_name - name to be displayed in the top of the window  \n",
    "image - image that is to be displayed"
   ]
  },
  {
   "cell_type": "markdown",
   "id": "f655f638",
   "metadata": {},
   "source": [
    "___"
   ]
  },
  {
   "cell_type": "markdown",
   "id": "b78c1fda",
   "metadata": {},
   "source": [
    "### WRITING AND SAVING AN IMAGE"
   ]
  },
  {
   "cell_type": "code",
   "execution_count": 5,
   "id": "561ca7b3",
   "metadata": {
    "collapsed": true
   },
   "outputs": [
    {
     "ename": "NameError",
     "evalue": "name 'filename' is not defined",
     "output_type": "error",
     "traceback": [
      "\u001b[1;31m---------------------------------------------------------------------------\u001b[0m",
      "\u001b[1;31mNameError\u001b[0m                                 Traceback (most recent call last)",
      "\u001b[1;32m~\\AppData\\Local\\Temp/ipykernel_14752/427544958.py\u001b[0m in \u001b[0;36m<module>\u001b[1;34m\u001b[0m\n\u001b[1;32m----> 1\u001b[1;33m \u001b[0mcv2\u001b[0m\u001b[1;33m.\u001b[0m\u001b[0mimwrite\u001b[0m\u001b[1;33m(\u001b[0m\u001b[0mfilename\u001b[0m\u001b[1;33m,\u001b[0m \u001b[0mimage\u001b[0m\u001b[1;33m)\u001b[0m\u001b[1;33m\u001b[0m\u001b[1;33m\u001b[0m\u001b[0m\n\u001b[0m",
      "\u001b[1;31mNameError\u001b[0m: name 'filename' is not defined"
     ]
    }
   ],
   "source": [
    "cv2.imwrite(filename, image)"
   ]
  },
  {
   "cell_type": "markdown",
   "id": "6a468df3",
   "metadata": {},
   "source": [
    "filename - string which has the name of the image to be saved with **file format(extension)**  \n",
    "image - the image that is to be saved"
   ]
  },
  {
   "cell_type": "code",
   "execution_count": null,
   "id": "875ed37e",
   "metadata": {},
   "outputs": [],
   "source": []
  }
 ],
 "metadata": {
  "kernelspec": {
   "display_name": "Python 3 (ipykernel)",
   "language": "python",
   "name": "python3"
  },
  "language_info": {
   "codemirror_mode": {
    "name": "ipython",
    "version": 3
   },
   "file_extension": ".py",
   "mimetype": "text/x-python",
   "name": "python",
   "nbconvert_exporter": "python",
   "pygments_lexer": "ipython3",
   "version": "3.8.8"
  }
 },
 "nbformat": 4,
 "nbformat_minor": 5
}
